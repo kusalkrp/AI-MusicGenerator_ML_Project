{
 "cells": [
  {
   "cell_type": "code",
   "execution_count": null,
   "metadata": {},
   "outputs": [],
   "source": [
    "from pydub import AudioSegment\n",
    "\n",
    "# Load vocals and background music\n",
    "vocals = AudioSegment.from_wav(\"vocals.wav\")\n",
    "background_music = AudioSegment.from_wav(\"background_music.wav\")\n",
    "\n",
    "# Combine vocals with background music\n",
    "combined = vocals.overlay(background_music)\n",
    "\n",
    "# Export the final song\n",
    "combined.export(\"final_song.wav\", format=\"wav\")\n"
   ]
  }
 ],
 "metadata": {
  "language_info": {
   "name": "python"
  }
 },
 "nbformat": 4,
 "nbformat_minor": 2
}
