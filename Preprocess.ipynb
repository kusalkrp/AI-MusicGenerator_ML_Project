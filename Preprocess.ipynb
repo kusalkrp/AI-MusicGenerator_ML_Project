{
 "cells": [
  {
   "cell_type": "code",
   "execution_count": 1,
   "metadata": {},
   "outputs": [],
   "source": [
    "import librosa\n",
    "import os\n",
    "import numpy as np"
   ]
  },
  {
   "cell_type": "code",
   "execution_count": 5,
   "metadata": {},
   "outputs": [],
   "source": [
    "data_dir = \"data/voice_samples/\"\n",
    "processed_data_dir = \"data/mel_spectrograms/\""
   ]
  },
  {
   "cell_type": "code",
   "execution_count": null,
   "metadata": {},
   "outputs": [],
   "source": [
    "if not os.path.exists(processed_data_dir):\n",
    "    os.makedirs(processed_data_dir)"
   ]
  },
  {
   "cell_type": "code",
   "execution_count": null,
   "metadata": {},
   "outputs": [],
   "source": [
    "for file_name in os.listdir(data_dir):\n",
    "    if file_name.endswith('.wav'):\n",
    "        file_path = os.path.join(data_dir, file_name)\n",
    "        y, sr = librosa.load(file_path, sr=22050)  # Load the audio file\n",
    "        mel_spec = librosa.feature.melspectrogram(y, sr=sr, n_mels=80)\n",
    "        mel_spec_db = librosa.power_to_db(mel_spec, ref=np.max)  # Convert to decibel\n",
    "        \n",
    "        np.save(os.path.join(processed_data_dir, file_name.replace('.wav', '.npy')), mel_spec_db)"
   ]
  }
 ],
 "metadata": {
  "kernelspec": {
   "display_name": "gpu",
   "language": "python",
   "name": "python3"
  },
  "language_info": {
   "codemirror_mode": {
    "name": "ipython",
    "version": 3
   },
   "file_extension": ".py",
   "mimetype": "text/x-python",
   "name": "python",
   "nbconvert_exporter": "python",
   "pygments_lexer": "ipython3",
   "version": "3.11.9"
  }
 },
 "nbformat": 4,
 "nbformat_minor": 2
}
